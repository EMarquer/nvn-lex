{
 "metadata": {
  "language_info": {
   "codemirror_mode": {
    "name": "ipython",
    "version": 3
   },
   "file_extension": ".py",
   "mimetype": "text/x-python",
   "name": "python",
   "nbconvert_exporter": "python",
   "pygments_lexer": "ipython3",
   "version": "3.8.5-final"
  },
  "orig_nbformat": 2,
  "kernelspec": {
   "name": "python38564bitnvnlexcondac653f90f6e884d13b1943bebce3ca1f4",
   "display_name": "Python 3.8.5 64-bit ('nvn-lex': conda)"
  }
 },
 "nbformat": 4,
 "nbformat_minor": 2,
 "cells": [
  {
   "cell_type": "code",
   "execution_count": 12,
   "metadata": {
    "tags": []
   },
   "outputs": [],
   "source": [
    "import rdflib\n",
    "from rdflib.plugins.parsers import notation3\n",
    "#parser = parsers.notation3.TurtleParser"
   ]
  },
  {
   "cell_type": "code",
   "execution_count": 13,
   "metadata": {},
   "outputs": [],
   "source": [
    "# create a Graph\n",
    "g = rdflib.Graph()"
   ]
  },
  {
   "cell_type": "code",
   "execution_count": 14,
   "metadata": {},
   "outputs": [],
   "source": [
    "# parse in an RDF file hosted on the Internet\n",
    "result = g.parse(\"ontology.owl\", format=\"turtle\")"
   ]
  },
  {
   "cell_type": "code",
   "execution_count": 15,
   "metadata": {},
   "outputs": [
    {
     "output_type": "execute_result",
     "data": {
      "text/plain": "<Graph identifier=N254d02b06e95455cbb66a426bb94b2ef (<class 'rdflib.graph.Graph'>)>"
     },
     "metadata": {},
     "execution_count": 15
    }
   ],
   "source": [
    "result"
   ]
  },
  {
   "cell_type": "code",
   "execution_count": 16,
   "metadata": {},
   "outputs": [
    {
     "output_type": "execute_result",
     "data": {
      "text/plain": "{rdflib.term.URIRef('http://www.semanticweb.org/darven/ontologies/novan-lexical-net#EvaluatorPrime'),\n rdflib.term.URIRef('http://www.semanticweb.org/darven/ontologies/novan-lexical-net#ExamplePhrase'),\n rdflib.term.URIRef('http://www.semanticweb.org/darven/ontologies/novan-lexical-net#ExampleSentence'),\n rdflib.term.URIRef('http://www.semanticweb.org/darven/ontologies/novan-lexical-net#LogicalPrime'),\n rdflib.term.URIRef('http://www.semanticweb.org/darven/ontologies/novan-lexical-net#MetaPrime'),\n rdflib.term.URIRef('http://www.semanticweb.org/darven/ontologies/novan-lexical-net#Modifier'),\n rdflib.term.URIRef('http://www.semanticweb.org/darven/ontologies/novan-lexical-net#Pronoun'),\n rdflib.term.URIRef('http://www.semanticweb.org/darven/ontologies/novan-lexical-net#QuantifierPrime'),\n rdflib.term.URIRef('http://www.semanticweb.org/darven/ontologies/novan-lexical-net#RelationSimilarityIntensifierPrime'),\n rdflib.term.URIRef('http://www.semanticweb.org/darven/ontologies/novan-lexical-net#SpacePrime'),\n rdflib.term.URIRef('http://www.semanticweb.org/darven/ontologies/novan-lexical-net#SubstentiativePrime'),\n rdflib.term.URIRef('http://www.semanticweb.org/darven/ontologies/novan-lexical-net#ThingPrime'),\n rdflib.term.URIRef('http://www.semanticweb.org/darven/ontologies/novan-lexical-net#TimePrime'),\n rdflib.term.URIRef('http://www.semanticweb.org/darven/ontologies/novan-lexical-net#Verb'),\n rdflib.term.URIRef('http://www.semanticweb.org/darven/ontologies/novan-lexical-net#rm:ActionAspect'),\n rdflib.term.URIRef('http://www.semanticweb.org/darven/ontologies/novan-lexical-net#rm:AmbiantAspect'),\n rdflib.term.URIRef('http://www.semanticweb.org/darven/ontologies/novan-lexical-net#rm:EssenceRole'),\n rdflib.term.URIRef('http://www.semanticweb.org/darven/ontologies/novan-lexical-net#rm:GenericAspect'),\n rdflib.term.URIRef('http://www.semanticweb.org/darven/ontologies/novan-lexical-net#rm:GoalRole'),\n rdflib.term.URIRef('http://www.semanticweb.org/darven/ontologies/novan-lexical-net#rm:InitiatorRole'),\n rdflib.term.URIRef('http://www.semanticweb.org/darven/ontologies/novan-lexical-net#rm:ProcessAspect'),\n rdflib.term.URIRef('http://www.semanticweb.org/darven/ontologies/novan-lexical-net#rm:RessourceRole'),\n rdflib.term.URIRef('http://www.semanticweb.org/darven/ontologies/novan-lexical-net#rm:SpatialAspect'),\n rdflib.term.URIRef('http://www.semanticweb.org/darven/ontologies/novan-lexical-net#rm:TemporalAspect'),\n rdflib.term.URIRef('http://www.semanticweb.org/darven/ontologies/novan-lexical-net#rm:TransferAspect'),\n rdflib.term.URIRef('http://www.w3.org/2002/07/owl#AllDisjointClasses'),\n rdflib.term.URIRef('http://www.w3.org/2002/07/owl#AnnotationProperty'),\n rdflib.term.URIRef('http://www.w3.org/2002/07/owl#Class'),\n rdflib.term.URIRef('http://www.w3.org/2002/07/owl#DatatypeProperty'),\n rdflib.term.URIRef('http://www.w3.org/2002/07/owl#NamedIndividual'),\n rdflib.term.URIRef('http://www.w3.org/2002/07/owl#ObjectProperty'),\n rdflib.term.URIRef('http://www.w3.org/2002/07/owl#Ontology')}"
     },
     "metadata": {},
     "execution_count": 16
    }
   ],
   "source": [
    "from rdflib import Literal, RDF, URIRef\n",
    "# rdflib knows about some namespaces, like FOAF\n",
    "from rdflib.namespace import FOAF , XSD\n",
    "\n",
    "types = set()\n",
    "for subj, pred, obj in g:\n",
    "    if pred == RDF.type:\n",
    "        types.add(obj)\n",
    "types"
   ]
  },
  {
   "cell_type": "code",
   "execution_count": 30,
   "metadata": {},
   "outputs": [
    {
     "output_type": "execute_result",
     "data": {
      "text/plain": "{rdflib.term.URIRef('http://ainf.aau.at/ontodebug#axiom'),\n rdflib.term.URIRef('http://ainf.aau.at/ontodebug#type'),\n rdflib.term.URIRef('http://ontologydesignpatterns.org/opla-sd#entityPosition'),\n rdflib.term.URIRef('http://ontologydesignpatterns.org/opla-sd#entityPositionX'),\n rdflib.term.URIRef('http://ontologydesignpatterns.org/opla-sd#entityPositionY'),\n rdflib.term.URIRef('http://www.semanticweb.org/darven/ontologies/novan-lexical-net#def:english'),\n rdflib.term.URIRef('http://www.semanticweb.org/darven/ontologies/novan-lexical-net#label:english'),\n rdflib.term.URIRef('http://www.semanticweb.org/darven/ontologies/novan-lexical-net#label:romanization'),\n rdflib.term.URIRef('http://www.w3.org/1999/02/22-rdf-syntax-ns#first'),\n rdflib.term.URIRef('http://www.w3.org/1999/02/22-rdf-syntax-ns#rest'),\n rdflib.term.URIRef('http://www.w3.org/1999/02/22-rdf-syntax-ns#type'),\n rdflib.term.URIRef('http://www.w3.org/2000/01/rdf-schema#comment'),\n rdflib.term.URIRef('http://www.w3.org/2000/01/rdf-schema#domain'),\n rdflib.term.URIRef('http://www.w3.org/2000/01/rdf-schema#range'),\n rdflib.term.URIRef('http://www.w3.org/2000/01/rdf-schema#subClassOf'),\n rdflib.term.URIRef('http://www.w3.org/2000/01/rdf-schema#subPropertyOf'),\n rdflib.term.URIRef('http://www.w3.org/2002/07/owl#complementOf'),\n rdflib.term.URIRef('http://www.w3.org/2002/07/owl#deprecated'),\n rdflib.term.URIRef('http://www.w3.org/2002/07/owl#inverseOf'),\n rdflib.term.URIRef('http://www.w3.org/2002/07/owl#members'),\n rdflib.term.URIRef('http://www.w3.org/2002/07/owl#propertyDisjointWith'),\n rdflib.term.URIRef('http://www.w3.org/2002/07/owl#unionOf')}"
     },
     "metadata": {},
     "execution_count": 30
    }
   ],
   "source": [
    "preds = set()\n",
    "for subj, pred, obj in g:\n",
    "    preds.add(pred)\n",
    "preds"
   ]
  },
  {
   "cell_type": "code",
   "execution_count": 5,
   "metadata": {},
   "outputs": [
    {
     "output_type": "execute_result",
     "data": {
      "text/plain": "585"
     },
     "metadata": {},
     "execution_count": 5
    }
   ],
   "source": [
    "len(g)"
   ]
  },
  {
   "cell_type": "code",
   "execution_count": 39,
   "metadata": {
    "tags": []
   },
   "outputs": [
    {
     "output_type": "execute_result",
     "data": {
      "text/plain": "{rdflib.term.URIRef('http://www.semanticweb.org/darven/ontologies/novan-lexical-net#v:less'): {'en': ['less (than)'],\n  'nvn': '',\n  'en def': 'to be of lower quantity/importance/degree'},\n rdflib.term.URIRef('http://www.semanticweb.org/darven/ontologies/novan-lexical-net#v:cause'): {'en': ['cause'],\n  'nvn': '',\n  'en def': 'to cause (somethingg)'},\n rdflib.term.URIRef('http://www.semanticweb.org/darven/ontologies/novan-lexical-net#v:good'): {'en': ['good'],\n  'nvn': '',\n  'en def': 'to be good'},\n rdflib.term.URIRef('http://www.semanticweb.org/darven/ontologies/novan-lexical-net#v:positive'): {'en': [],\n  'nvn': '',\n  'en def': ''},\n rdflib.term.URIRef('http://www.semanticweb.org/darven/ontologies/novan-lexical-net#v:very'): {'en': ['very'],\n  'nvn': '',\n  'en def': 'to be of high quantity/importance/degree'},\n rdflib.term.URIRef('http://www.semanticweb.org/darven/ontologies/novan-lexical-net#v:bad'): {'en': ['bad'],\n  'nvn': '',\n  'en def': 'to be bad'},\n rdflib.term.URIRef('http://www.semanticweb.org/darven/ontologies/novan-lexical-net#v:many'): {'en': ['a lot (of)',\n   'many'],\n  'nvn': '',\n  'en def': 'to be a numerous amount'},\n rdflib.term.URIRef('http://www.semanticweb.org/darven/ontologies/novan-lexical-net#v:kindOf'): {'en': ['sort of',\n   'kind of'],\n  'nvn': '',\n  'en def': 'to share caracteristics with'},\n rdflib.term.URIRef('http://www.semanticweb.org/darven/ontologies/novan-lexical-net#v:pack'): {'en': ['a pack of'],\n  'nvn': '',\n  'en def': 'to be an amount between 2 and 12 (both included)'},\n rdflib.term.URIRef('http://www.semanticweb.org/darven/ontologies/novan-lexical-net#v:partOf'): {'en': ['part (of)',\n   'element'],\n  'nvn': '',\n  'en def': 'to be a part of'},\n rdflib.term.URIRef('http://www.semanticweb.org/darven/ontologies/novan-lexical-net#v:group'): {'en': ['group'],\n  'nvn': '',\n  'en def': 'to be together'},\n rdflib.term.URIRef('http://www.semanticweb.org/darven/ontologies/novan-lexical-net#v:similar'): {'en': ['similar'],\n  'nvn': '',\n  'en def': 'to resemble but not be identical to'},\n rdflib.term.URIRef('http://www.semanticweb.org/darven/ontologies/novan-lexical-net#v:here'): {'en': [],\n  'nvn': '',\n  'en def': ''},\n rdflib.term.URIRef('http://www.semanticweb.org/darven/ontologies/novan-lexical-net#v:exist'): {'en': ['thing',\n   'exist'],\n  'nvn': '',\n  'en def': 'to exist'},\n rdflib.term.URIRef('http://www.semanticweb.org/darven/ontologies/novan-lexical-net#v:pair'): {'en': ['pair (of)'],\n  'nvn': '',\n  'en def': 'to be a pair (of)'},\n rdflib.term.URIRef('http://www.semanticweb.org/darven/ontologies/novan-lexical-net#v:unit'): {'en': ['a',\n   'unit (of)'],\n  'nvn': '',\n  'en def': 'to be a single'},\n rdflib.term.URIRef('http://www.semanticweb.org/darven/ontologies/novan-lexical-net#v:all'): {'en': ['all'],\n  'nvn': '',\n  'en def': 'to be the whole quantity'},\n rdflib.term.URIRef('http://www.semanticweb.org/darven/ontologies/novan-lexical-net#v:most'): {'en': ['most (of)'],\n  'nvn': '',\n  'en def': 'to be the major part of the quantity'},\n rdflib.term.URIRef('http://www.semanticweb.org/darven/ontologies/novan-lexical-net#v:possible'): {'en': ['possible'],\n  'nvn': '',\n  'en def': 'to be possible'},\n rdflib.term.URIRef('http://www.semanticweb.org/darven/ontologies/novan-lexical-net#v:repeat'): {'en': [],\n  'nvn': '',\n  'en def': ''},\n rdflib.term.URIRef('http://www.semanticweb.org/darven/ontologies/novan-lexical-net#v:novan'): {'en': ['Novan'],\n  'nvn': '',\n  'en def': 'to be Novan'},\n rdflib.term.URIRef('http://www.semanticweb.org/darven/ontologies/novan-lexical-net#v:negative'): {'en': [],\n  'nvn': '',\n  'en def': ''},\n rdflib.term.URIRef('http://www.semanticweb.org/darven/ontologies/novan-lexical-net#v:little'): {'en': ['a little (of)'],\n  'nvn': '',\n  'en def': 'to be a small amount'},\n rdflib.term.URIRef('http://www.semanticweb.org/darven/ontologies/novan-lexical-net#v:same'): {'en': ['same'],\n  'nvn': '',\n  'en def': 'to be identical to'},\n rdflib.term.URIRef('http://www.semanticweb.org/darven/ontologies/novan-lexical-net#v:true'): {'en': ['true'],\n  'nvn': '',\n  'en def': 'to be true'},\n rdflib.term.URIRef('http://www.semanticweb.org/darven/ontologies/novan-lexical-net#v:if'): {'en': ['if'],\n  'nvn': '',\n  'en def': 'to be under the condition of'},\n rdflib.term.URIRef('http://www.semanticweb.org/darven/ontologies/novan-lexical-net#v:before'): {'en': [],\n  'nvn': '',\n  'en def': ''},\n rdflib.term.URIRef('http://www.semanticweb.org/darven/ontologies/novan-lexical-net#v:more'): {'en': ['more'],\n  'nvn': '',\n  'en def': 'to be of higher quantity/importance/degree'},\n rdflib.term.URIRef('http://www.semanticweb.org/darven/ontologies/novan-lexical-net#v:entity'): {'en': ['entity'],\n  'nvn': '',\n  'en def': ''}}"
     },
     "metadata": {},
     "execution_count": 39
    }
   ],
   "source": [
    "\n",
    "types = [\n",
    "    rdflib.term.URIRef('http://www.semanticweb.org/darven/ontologies/novan-lexical-net#Verb'),\n",
    "    rdflib.term.URIRef('http://www.semanticweb.org/darven/ontologies/novan-lexical-net#EvaluatorPrime'),\n",
    "    rdflib.term.URIRef('http://www.semanticweb.org/darven/ontologies/novan-lexical-net#LogicalPrime'),\n",
    "    rdflib.term.URIRef('http://www.semanticweb.org/darven/ontologies/novan-lexical-net#MetaPrime'),\n",
    "    rdflib.term.URIRef('http://www.semanticweb.org/darven/ontologies/novan-lexical-net#QuantifierPrime'),\n",
    "    rdflib.term.URIRef('http://www.semanticweb.org/darven/ontologies/novan-lexical-net#RelationSimilarityIntensifierPrime'),\n",
    "    rdflib.term.URIRef('http://www.semanticweb.org/darven/ontologies/novan-lexical-net#SpacePrime'),\n",
    "    rdflib.term.URIRef('http://www.semanticweb.org/darven/ontologies/novan-lexical-net#SubstentiativePrime'),\n",
    "    rdflib.term.URIRef('http://www.semanticweb.org/darven/ontologies/novan-lexical-net#ThingPrime'),\n",
    "    rdflib.term.URIRef('http://www.semanticweb.org/darven/ontologies/novan-lexical-net#TimePrime')\n",
    "]\n",
    "VERB = rdflib.term.URIRef('http://www.semanticweb.org/darven/ontologies/novan-lexical-net#Verb')\n",
    "verbs = dict()\n",
    "for subj, pred, obj in g:\n",
    "    if pred == RDF.type and obj == VERB:\n",
    "        verbs[subj] = {\"en\": [], \"nvn\": \"\", \"en def\": \"\"}\n",
    "        #print(subj)\n",
    "\n",
    "for verb, verb_dict in verbs.items():\n",
    "    for subj, pred, obj in g:\n",
    "        if subj == verb:\n",
    "            if pred == rdflib.term.URIRef('http://www.semanticweb.org/darven/ontologies/novan-lexical-net#def:english'):\n",
    "                verb_dict[\"en def\"] = obj.value\n",
    "            elif pred == rdflib.term.URIRef('http://www.semanticweb.org/darven/ontologies/novan-lexical-net#label:english'):\n",
    "                verb_dict[\"en\"].append(obj.value)\n",
    "            elif pred == rdflib.term.URIRef('http://www.semanticweb.org/darven/ontologies/novan-lexical-net#label:romanization'):\n",
    "                verb_dict[\"nvn\"] = obj.value\n",
    "verbs"
   ]
  },
  {
   "cell_type": "code",
   "execution_count": 37,
   "metadata": {},
   "outputs": [],
   "source": [
    "t = rdflib.term.Literal('to be of lower quantity/importance/degree', lang='en')"
   ]
  },
  {
   "cell_type": "code",
   "execution_count": 38,
   "metadata": {},
   "outputs": [
    {
     "output_type": "execute_result",
     "data": {
      "text/plain": "'to be of lower quantity/importance/degree'"
     },
     "metadata": {},
     "execution_count": 38
    }
   ],
   "source": [
    "t.value"
   ]
  },
  {
   "cell_type": "code",
   "execution_count": 1,
   "metadata": {},
   "outputs": [],
   "source": [
    "import model.nvn as n\n",
    "import random"
   ]
  },
  {
   "cell_type": "code",
   "execution_count": 2,
   "metadata": {},
   "outputs": [],
   "source": [
    "def generate(k):\n",
    "    nvn = ''.join(random.choices(n.ALPHABET, k=k))\n",
    "    while not n.is_valid(nvn):\n",
    "        nvn = ''.join(random.choices(n.ALPHABET, k=k))\n",
    "    return nvn\n",
    "\n",
    "SYL = ['V', 'CV', 'VC', 'CVC']\n",
    "SYLS = list(n.VOWELS)\n",
    "SYLS += [c+v for c in n.CONSONANTS for v in n.VOWELS]\n",
    "SYLS += [v+c for c in n.CONSONANTS for v in n.VOWELS]\n",
    "SYLS += [c+v+cc for c in n.CONSONANTS for cc in n.CONSONANTS for v in n.VOWELS]\n",
    "def generate_s(n_syl):\n",
    "    nvn = \"\"\n",
    "    while not n.is_valid(nvn) or nvn == \"\":\n",
    "        nvn = \"\".join(random.choices(SYLS, k=n_syl))\n",
    "    return nvn"
   ]
  },
  {
   "cell_type": "code",
   "execution_count": 1,
   "metadata": {},
   "outputs": [],
   "source": [
    "from model.verb import Verb"
   ]
  },
  {
   "cell_type": "code",
   "execution_count": 4,
   "metadata": {},
   "outputs": [
    {
     "output_type": "execute_result",
     "data": {
      "text/plain": "{'uri': '',\n 'nvn': 'repticide',\n 'nvn_syllables': ['rep', 'ti', 'ci', 'de'],\n 'en': ''}"
     },
     "metadata": {},
     "execution_count": 4
    }
   ],
   "source": [
    "v = Verb()\n",
    "v.set_nvn('repticide')\n",
    "v.__dict__"
   ]
  },
  {
   "cell_type": "code",
   "execution_count": 8,
   "metadata": {},
   "outputs": [
    {
     "output_type": "execute_result",
     "data": {
      "text/plain": "True"
     },
     "metadata": {},
     "execution_count": 8
    }
   ],
   "source": [
    "'de' in 'repticide'"
   ]
  },
  {
   "cell_type": "code",
   "execution_count": 11,
   "metadata": {},
   "outputs": [
    {
     "output_type": "execute_result",
     "data": {
      "text/plain": "1"
     },
     "metadata": {},
     "execution_count": 11
    }
   ],
   "source": [
    "l = ['a', 521, 'c']\n",
    "l.index(521)"
   ]
  },
  {
   "cell_type": "code",
   "execution_count": 24,
   "metadata": {},
   "outputs": [],
   "source": [
    "import pandas as pd\n",
    "from ast import literal_eval"
   ]
  },
  {
   "cell_type": "code",
   "execution_count": 2,
   "metadata": {},
   "outputs": [],
   "source": [
    "df = pd.read_csv(\"data/verbs.csv\", index_col=0)"
   ]
  },
  {
   "cell_type": "code",
   "execution_count": 3,
   "metadata": {
    "tags": []
   },
   "outputs": [
    {
     "output_type": "stream",
     "name": "stdout",
     "text": "(0, nan, '#', \"['#']\", 'New Verb', 'sdddd qsdd\\n', 'sss\\n', False, False, True, False, True, True)\n(1, nan, 'xo', \"['xo']\", 'zeee', 'ddd\\n', 'd\\n', True, True, False, False, True, False)\n"
    }
   ],
   "source": [
    "for row in df.to_():\n",
    "    print(row)"
   ]
  },
  {
   "cell_type": "code",
   "execution_count": 25,
   "metadata": {
    "tags": []
   },
   "outputs": [
    {
     "output_type": "stream",
     "name": "stdout",
     "text": "{'uri': '', 'nvn': '#', 'nvn_syllables': ['#'], 'en': 'New Verb', 'nvn_desc': 'sdddd qsdd\\n', 'en_desc': 'sss\\n', 'is_generic': False, 'is_state': False, 'is_process': True, 'is_cognition': False, 'is_transfer': True, 'is_prime': True}\n{'uri': '', 'nvn': 'xo', 'nvn_syllables': ['xo'], 'en': 'zeee', 'nvn_desc': 'ddd\\n', 'en_desc': 'd\\n', 'is_generic': True, 'is_state': True, 'is_process': False, 'is_cognition': False, 'is_transfer': True, 'is_prime': False}\n"
    }
   ],
   "source": [
    "df = pd.read_csv(\"data/verbs.csv\", index_col=0, keep_default_na=False, converters={'nvn_syllables': literal_eval})\n",
    "for index, row in df.iterrows():\n",
    "    print({name: value for name, value in zip(df.columns, row)})"
   ]
  },
  {
   "cell_type": "code",
   "execution_count": null,
   "metadata": {},
   "outputs": [],
   "source": []
  }
 ]
}